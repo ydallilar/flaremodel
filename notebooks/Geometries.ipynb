{
 "cells": [
  {
   "cell_type": "raw",
   "metadata": {
    "raw_mimetype": "text/restructuredtext"
   },
   "source": [
    "Geometry Interface\n",
    "==================\n",
    "\n",
    ".. currentmodule:: flaremodel"
   ]
  },
  {
   "cell_type": "code",
   "execution_count": 1,
   "metadata": {
    "execution": {
     "iopub.execute_input": "2022-01-03T10:09:59.318582Z",
     "iopub.status.busy": "2022-01-03T10:09:59.316627Z",
     "iopub.status.idle": "2022-01-03T10:10:00.811016Z",
     "shell.execute_reply": "2022-01-03T10:10:00.810489Z"
    }
   },
   "outputs": [],
   "source": [
    "import flaremodel as fm\n",
    "import numpy as np\n",
    "import matplotlib.pyplot as plt"
   ]
  },
  {
   "cell_type": "code",
   "execution_count": 2,
   "metadata": {
    "execution": {
     "iopub.execute_input": "2022-01-03T10:10:00.815432Z",
     "iopub.status.busy": "2022-01-03T10:10:00.814992Z",
     "iopub.status.idle": "2022-01-03T10:10:00.817159Z",
     "shell.execute_reply": "2022-01-03T10:10:00.817524Z"
    }
   },
   "outputs": [
    {
     "name": "stdout",
     "output_type": "stream",
     "text": [
      "R = 4.0e+15 cm\n"
     ]
    }
   ],
   "source": [
    "nus = np.logspace(10, 24, 100)\n",
    "\n",
    "B, ne, R_in, p, g_min, g_max, incang, steps = 10, 1e6, 0, 3, 10., 2e4, -1, 64\n",
    "\n",
    "edist = \"powerlaw\"\n",
    "params = [p, g_min, g_max]\n",
    "\n",
    "#This would give rough scaling with Thompson scattering approximation between synchrotron and SSC.\n",
    "R = 2/(fm.sigma_T*ne*np.log(g_max/g_min)*g_min**(p-1))\n",
    "print(\"R = %.1e cm\" % R)"
   ]
  },
  {
   "cell_type": "raw",
   "metadata": {
    "raw_mimetype": "text/restructuredtext"
   },
   "source": [
    "With this initialization, :class:`RadialSphere` is equivalent to :class:`HomogeneousSphere`. "
   ]
  },
  {
   "cell_type": "code",
   "execution_count": 3,
   "metadata": {
    "execution": {
     "iopub.execute_input": "2022-01-03T10:10:00.820936Z",
     "iopub.status.busy": "2022-01-03T10:10:00.820507Z",
     "iopub.status.idle": "2022-01-03T10:10:00.822906Z",
     "shell.execute_reply": "2022-01-03T10:10:00.822541Z"
    }
   },
   "outputs": [],
   "source": [
    "homo_sp = fm.HomogeneousSphere(edist=edist)\n",
    "rad_sp_cpu = fm.RadialSphere(edist=edist, target=\"cpu\")\n",
    "rad_sp_gpu = fm.RadialSphere(edist=edist, target=\"gpu\")"
   ]
  },
  {
   "cell_type": "raw",
   "metadata": {
    "raw_mimetype": "text/restructuredtext"
   },
   "source": [
    "Synchrotron SED can be calculated as follows,"
   ]
  },
  {
   "cell_type": "code",
   "execution_count": 4,
   "metadata": {
    "execution": {
     "iopub.execute_input": "2022-01-03T10:10:00.829723Z",
     "iopub.status.busy": "2022-01-03T10:10:00.829230Z",
     "iopub.status.idle": "2022-01-03T10:10:00.896067Z",
     "shell.execute_reply": "2022-01-03T10:10:00.896400Z"
    }
   },
   "outputs": [],
   "source": [
    "sync_h = homo_sp.compute_synchrotron(nus, ne, [R, incang], B, params)\n",
    "sync_r = rad_sp_cpu.compute_synchrotron(nus, ne, [R, R_in, incang], B, params)"
   ]
  },
  {
   "cell_type": "raw",
   "metadata": {
    "raw_mimetype": "text/restructuredtext"
   },
   "source": [
    "Note that SSC calculations requires setting proper integration limits. \n",
    "Gamma limits are adapted from electron distribution parameters.\n",
    "Default range for the seed photons is :math:`\\nu=[10^8, 10^{17}]` Hz.\n",
    "Although it is excessive for this case, will work fine."
   ]
  },
  {
   "cell_type": "code",
   "execution_count": 5,
   "metadata": {
    "execution": {
     "iopub.execute_input": "2022-01-03T10:10:00.898225Z",
     "iopub.status.busy": "2022-01-03T10:10:00.897840Z",
     "iopub.status.idle": "2022-01-03T10:10:02.936330Z",
     "shell.execute_reply": "2022-01-03T10:10:02.936744Z"
    }
   },
   "outputs": [
    {
     "name": "stdout",
     "output_type": "stream",
     "text": [
      "1.94 s ± 14 ms per loop (mean ± std. dev. of 7 runs, 1 loop each)\n"
     ]
    }
   ],
   "source": [
    "%timeit ssc_h = homo_sp.compute_SSC(nus, ne, [R, incang], B, params, gamma_min=g_min, gamma_max=g_max)\n",
    "%timeit ssc_cpu = rad_sp_cpu.compute_SSC(nus, ne, [R, R_in, incang], B, params, gamma_min=g_min, gamma_max=g_max)\n",
    "%timeit ssc_gpu = rad_sp_gpu.compute_SSC(nus, ne, [R, R_in, incang], B, params, gamma_min=g_min, gamma_max=g_max)"
   ]
  },
  {
   "cell_type": "raw",
   "metadata": {
    "raw_mimetype": "text/restructuredtext"
   },
   "source": [
    "This is an example for inverse Compton scattering. \n",
    "Essentially, SSC on :class:`RadialSphere` but with photon densities of :class:`HomogeneousSphere`"
   ]
  },
  {
   "cell_type": "code",
   "execution_count": 6,
   "metadata": {
    "execution": {
     "iopub.execute_input": "2022-01-03T10:10:02.938795Z",
     "iopub.status.busy": "2022-01-03T10:10:02.938348Z",
     "iopub.status.idle": "2022-01-03T10:10:04.609820Z",
     "shell.execute_reply": "2022-01-03T10:10:04.610245Z"
    }
   },
   "outputs": [],
   "source": [
    "n_ph_fun = lambda nu: homo_sp._compute_photon_density(nu, ne, [R, incang], B, params)\n",
    "ic_cpu = rad_sp_cpu.compute_IC(nus, ne, n_ph_fun, [R, R_in, incang], B, params, gamma_min=g_min, gamma_max=g_max)\n",
    "ic_cpu = rad_sp_gpu.compute_IC(nus, ne, n_ph_fun, [R, R_in, incang], B, params, gamma_min=g_min, gamma_max=g_max)"
   ]
  },
  {
   "cell_type": "code",
   "execution_count": 7,
   "metadata": {
    "execution": {
     "iopub.execute_input": "2022-01-03T10:10:04.612255Z",
     "iopub.status.busy": "2022-01-03T10:10:04.611817Z",
     "iopub.status.idle": "2022-01-03T10:10:05.190030Z",
     "shell.execute_reply": "2022-01-03T10:10:05.189707Z"
    }
   },
   "outputs": [
    {
     "ename": "NameError",
     "evalue": "name 'ssc_h' is not defined",
     "output_type": "error",
     "traceback": [
      "\u001b[0;31m---------------------------------------------------------------------------\u001b[0m",
      "\u001b[0;31mNameError\u001b[0m                                 Traceback (most recent call last)",
      "\u001b[0;32m/tmp/ipykernel_6996/1502196756.py\u001b[0m in \u001b[0;36m<module>\u001b[0;34m\u001b[0m\n\u001b[1;32m      1\u001b[0m \u001b[0mplt\u001b[0m\u001b[0;34m.\u001b[0m\u001b[0mfigure\u001b[0m\u001b[0;34m(\u001b[0m\u001b[0mfigsize\u001b[0m\u001b[0;34m=\u001b[0m\u001b[0;34m(\u001b[0m\u001b[0;36m10\u001b[0m\u001b[0;34m,\u001b[0m \u001b[0;36m8\u001b[0m\u001b[0;34m)\u001b[0m\u001b[0;34m)\u001b[0m\u001b[0;34m\u001b[0m\u001b[0;34m\u001b[0m\u001b[0m\n\u001b[1;32m      2\u001b[0m \u001b[0mplt\u001b[0m\u001b[0;34m.\u001b[0m\u001b[0mloglog\u001b[0m\u001b[0;34m(\u001b[0m\u001b[0mnus\u001b[0m\u001b[0;34m,\u001b[0m \u001b[0msync_h\u001b[0m\u001b[0;34m*\u001b[0m\u001b[0mnus\u001b[0m\u001b[0;34m,\u001b[0m \u001b[0;34m'k-'\u001b[0m\u001b[0;34m)\u001b[0m\u001b[0;34m\u001b[0m\u001b[0;34m\u001b[0m\u001b[0m\n\u001b[0;32m----> 3\u001b[0;31m \u001b[0mplt\u001b[0m\u001b[0;34m.\u001b[0m\u001b[0mloglog\u001b[0m\u001b[0;34m(\u001b[0m\u001b[0mnus\u001b[0m\u001b[0;34m,\u001b[0m \u001b[0mssc_h\u001b[0m\u001b[0;34m*\u001b[0m\u001b[0mnus\u001b[0m\u001b[0;34m,\u001b[0m \u001b[0;34m\"r-\"\u001b[0m\u001b[0;34m)\u001b[0m\u001b[0;34m\u001b[0m\u001b[0;34m\u001b[0m\u001b[0m\n\u001b[0m\u001b[1;32m      4\u001b[0m \u001b[0mplt\u001b[0m\u001b[0;34m.\u001b[0m\u001b[0mloglog\u001b[0m\u001b[0;34m(\u001b[0m\u001b[0mnus\u001b[0m\u001b[0;34m,\u001b[0m \u001b[0msync_r\u001b[0m\u001b[0;34m*\u001b[0m\u001b[0mnus\u001b[0m\u001b[0;34m,\u001b[0m \u001b[0;34m'k.'\u001b[0m\u001b[0;34m)\u001b[0m\u001b[0;34m\u001b[0m\u001b[0;34m\u001b[0m\u001b[0m\n\u001b[1;32m      5\u001b[0m \u001b[0mplt\u001b[0m\u001b[0;34m.\u001b[0m\u001b[0mloglog\u001b[0m\u001b[0;34m(\u001b[0m\u001b[0mnus\u001b[0m\u001b[0;34m,\u001b[0m \u001b[0mssc_cpu\u001b[0m\u001b[0;34m*\u001b[0m\u001b[0mnus\u001b[0m\u001b[0;34m,\u001b[0m \u001b[0;34m'ro'\u001b[0m\u001b[0;34m)\u001b[0m\u001b[0;34m\u001b[0m\u001b[0;34m\u001b[0m\u001b[0m\n",
      "\u001b[0;31mNameError\u001b[0m: name 'ssc_h' is not defined"
     ]
    },
    {
     "data": {
      "image/png": "[encoded data removed]",
      "text/plain": [
       "<Figure size 720x576 with 1 Axes>"
      ]
     },
     "metadata": {
      "needs_background": "light"
     },
     "output_type": "display_data"
    }
   ],
   "source": [
    "plt.figure(figsize=(10, 8))\n",
    "plt.loglog(nus, sync_h*nus, 'k-')\n",
    "plt.loglog(nus, ssc_h*nus, \"r-\")\n",
    "plt.loglog(nus, sync_r*nus, 'k.')\n",
    "plt.loglog(nus, ssc_cpu*nus, 'ro')\n",
    "plt.loglog(nus, ssc_gpu*nus, 'y.')\n",
    "plt.loglog(nus, ic_cpu*nus, 'b.')\n",
    "plt.ylabel(r\"$\\nu L_\\nu$ [erg s-1]\")\n",
    "plt.xlabel(\"Frequency [Hz]\")\n",
    "plt.ylim([1e41, 4e43]);"
   ]
  },
  {
   "cell_type": "raw",
   "metadata": {
    "raw_mimetype": "text/restructuredtext"
   },
   "source": [
    "Doppler Boosting\n",
    "================"
   ]
  },
  {
   "cell_type": "code",
   "execution_count": null,
   "metadata": {
    "execution": {
     "iopub.execute_input": "2022-01-03T10:10:05.197738Z",
     "iopub.status.busy": "2022-01-03T10:10:05.197144Z",
     "iopub.status.idle": "2022-01-03T10:10:05.679863Z",
     "shell.execute_reply": "2022-01-03T10:10:05.680143Z"
    }
   },
   "outputs": [],
   "source": [
    "boost_p1 = [0.3, 0, -1] # Not physical but for testing purposes\n",
    "sync_h_b1 = homo_sp.compute_synchrotron(nus, ne, [R, incang], B, params, boost_p1)\n",
    "boost_p2 = [0.3, 0, 3]\n",
    "sync_h_b2 = homo_sp.compute_synchrotron(nus, ne, [R, incang], B, params, boost_p2)\n",
    "plt.figure(figsize=(10, 8))\n",
    "plt.loglog(nus, sync_h*nus, 'k-')\n",
    "plt.loglog(nus, sync_h_b1*nus, 'r-')\n",
    "plt.loglog(nus, sync_h_b2*nus, 'b-')\n",
    "plt.ylabel(r\"$\\nu L_\\nu$ [erg s-1]\")\n",
    "plt.xlabel(\"Frequency [Hz]\")\n",
    "plt.xlim([1e10, 1e18])\n",
    "plt.ylim([1e41, 4e43]);"
   ]
  },
  {
   "cell_type": "code",
   "execution_count": null,
   "metadata": {},
   "outputs": [],
   "source": []
  }
 ],
 "metadata": {
  "interpreter": {
   "hash": "fc59d85fd849d6dd62931b67a61f0e57efea08950b5081af8b8b8a58e400e4b6"
  },
  "kernelspec": {
   "display_name": "Python 3 (ipykernel)",
   "language": "python",
   "name": "python3"
  },
  "language_info": {
   "codemirror_mode": {
    "name": "ipython",
    "version": 3
   },
   "file_extension": ".py",
   "mimetype": "text/x-python",
   "name": "python",
   "nbconvert_exporter": "python",
   "pygments_lexer": "ipython3",
   "version": "3.9.7"
  }
 },
 "nbformat": 4,
 "nbformat_minor": 4
}
